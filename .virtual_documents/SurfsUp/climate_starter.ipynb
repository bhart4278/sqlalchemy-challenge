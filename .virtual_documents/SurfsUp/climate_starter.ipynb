%matplotlib inline
from matplotlib import style
style.use('fivethirtyeight')
import matplotlib.pyplot as plt


import numpy as np
import pandas as pd
import datetime as dt





# Python SQL toolkit and Object Relational Mapper
import sqlalchemy
from sqlalchemy.ext.automap import automap_base
from sqlalchemy.orm import Session
from sqlalchemy import create_engine, func, inspect


# create engine to hawaii.sqlite
engine = create_engine("sqlite:///Resources/hawaii.sqlite")


# reflect an existing database into a new model
Base = automap_base()
# reflect the tables
#Base.prepare(engine, reflect=True)
Base.prepare(autoload_with=engine)


# View all of the classes that automap found
Base.classes.keys()


# Save references to each table
Station = Base.classes.station
Measurement = Base.classes.measurement


# Create our session (link) from Python to the DB
session = Session(engine)
inspector = inspect(engine)





#inspect column names and types for each table. Station columns:
station_col = inspector.get_columns("station")
for c in station_col:
    print(c["name"], c["type"])


#measurement columns:
measurement_col = inspector.get_columns("measurement")
for c in measurement_col:
    print(c["name"], c["type"])


# Find the most recent date in the data set.
most_recent_date = session.query(func.max(Measurement.date)).scalar()
most_recent_date


# Design a query to retrieve the last 12 months of precipitation data and plot the results. 
# Starting from the most recent data point in the database. 

# Calculate the date one year from the last date in data set.
one_year_ago = dt.date(2017,8,23) - dt.timedelta(days=365)


# Perform a query to retrieve the data and precipitation scores
precipitation_data = session.query(Measurement.date, Measurement.prcp).filter(
    Measurement.date >= one_year_ago).order_by(Measurement.date).all()  #order_by function will sort data by date instead of sorting the df by date later on
    
# Save the query results as a Pandas DataFrame. Explicitly set the column names
prcp_df = pd.DataFrame(precipitation_data, columns=["date", "precipitation"])

# Sort the dataframe by date
#prcp_df = prcp_df.sort_values(by="date")
#prcp_df

# Use Pandas Plotting with Matplotlib to plot the data
prcp_df.set_index("date", inplace=True)  
prcp_df.plot(
    figsize=(10, 6),
    xlabel="Date",
    ylabel="Precipitation (inches)",
    title="Precipitation in the Last 12 Months",
    rot=90,
)
plt.tight_layout()  
plt.show()


# Use Pandas to calculate the summary statistics for the precipitation data
prcp_df.describe()





# Design a query to calculate the total number of stations in the dataset
tot_stations = session.query(func.count(Station.id)).scalar()
tot_stations


# Design a query to find the most active stations (i.e. which stations have the most rows?)
# List the stations and their counts in descending order.
active_stations = session.query(Measurement.station, func.count(Measurement.station))\
    .group_by(Measurement.station)\
    .order_by(func.count(Measurement.station).desc()).all()
active_stations


# Using the most active station id from the previous query, calculate the lowest, highest, and average temperature.
most_active_station_id = active_stations[0][0]
temp_stats = session.query(
    func.min(Measurement.tobs),
    func.max(Measurement.tobs),
    func.avg(Measurement.tobs)
).filter(Measurement.station == most_active_station_id).all()
temp_stats


# Using the most active station id
# Query the last 12 months of temperature observation data for this station and plot the results as a histogram
data = session.query(Measurement.tobs)\
        .filter(Measurement.station == most_active_station_id)\
        .filter(Measurement.date >= one_year_ago).all()
#Save results to pandas df
station_df = pd.DataFrame(data, columns=['tobs'])
#plot histogram
station_df.plot.hist(bins=12, figsize=(10, 6))
plt.xlabel('Temperature')
plt.show()





# Close Session
session.close()
